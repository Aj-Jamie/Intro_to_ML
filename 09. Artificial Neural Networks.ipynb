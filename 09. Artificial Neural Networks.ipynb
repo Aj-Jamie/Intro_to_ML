{
 "cells": [
  {
   "cell_type": "markdown",
   "metadata": {},
   "source": [
    "### 9.1) Import modules"
   ]
  },
  {
   "cell_type": "code",
   "execution_count": null,
   "metadata": {},
   "outputs": [],
   "source": [
    "import numpy as np\n",
    "from sklearn.linear_model import Perceptron\n",
    "from sklearn import neural_network\n",
    "import matplotlib.pyplot as plt\n",
    "from sklearn.datasets import load_digits\n",
    "from sklearn.model_selection import train_test_split\n",
    "from sklearn.preprocessing import MinMaxScaler\n",
    "from sklearn.metrics import accuracy_score"
   ]
  },
  {
   "cell_type": "markdown",
   "metadata": {},
   "source": [
    "### 8.2) Define input and output data for logic gate functions"
   ]
  },
  {
   "cell_type": "code",
   "execution_count": null,
   "metadata": {},
   "outputs": [],
   "source": [
    "inputs = [ [0, 0], [0, 1], [1, 0], [1, 1] ]\n",
    "\n",
    "output_AND = [0, 0, 0, 1]\n",
    "output_OR = [0, 1, 1, 1]\n",
    "output_XOR = [0, 1, 1, 0]\n",
    "\n",
    "outputs = [output_AND, output_OR, output_XOR]\n",
    "gates = ['AND', 'OR', 'XOR']"
   ]
  },
  {
   "cell_type": "markdown",
   "metadata": {},
   "source": [
    "### 8.5) Deinfe Classifier Decision Boundary plotting function"
   ]
  },
  {
   "cell_type": "code",
   "execution_count": null,
   "metadata": {},
   "outputs": [],
   "source": [
    "def plot_decision_boundary(ax, model, cmap):\n",
    "\n",
    "    x_min, x_max = ax.get_xlim()\n",
    "    y_min, y_max = ax.get_ylim()\n",
    "    \n",
    "    X_range, y_range = np.arange(x_min, x_max, 0.01), np.arange(y_min, y_max, 0.01)\n",
    "\n",
    "    xx, yy = np.meshgrid(X_range, y_range)\n",
    "\n",
    "    decision_boundary = model.predict(np.c_[xx.ravel(), yy.ravel()])\n",
    "    decision_boundary = decision_boundary.reshape(xx.shape)\n",
    "\n",
    "    ax.contourf(xx, yy, decision_boundary, cmap=cmap, alpha=0.2)"
   ]
  },
  {
   "cell_type": "markdown",
   "metadata": {},
   "source": [
    "### 8.4) Use Perceptron model to model logic gate functions\n",
    "https://scikit-learn.org/stable/modules/generated/sklearn.linear_model.Perceptron.html"
   ]
  },
  {
   "cell_type": "code",
   "execution_count": null,
   "metadata": {},
   "outputs": [],
   "source": [
    "plt.figure(figsize=(8,3))\n",
    "\n",
    "for i, output in enumerate(outputs):\n",
    "    \n",
    "    X = np.array(inputs)\n",
    "    y = np.array(output)\n",
    "    \n",
    "    perceptron = Perceptron()\n",
    "    perceptron.fit(X, y)\n",
    "    \n",
    "    ax = plt.subplot(1, 3, i + 1)\n",
    "    \n",
    "    plt.scatter(X[y==0, 0], X[y==0, 1], color='r', alpha=1, label='Class 0')\n",
    "    plt.scatter(X[y==1, 0], X[y==1, 1], color='b', alpha=1, label='Class 1')\n",
    "    \n",
    "    plot_decision_boundary(ax, perceptron, plt.cm.RdBu)\n",
    "    \n",
    "    plt.xticks([0, 1])\n",
    "    plt.yticks([0, 1])\n",
    "\n",
    "    plt.title(gates[i])\n",
    "    plt.xlabel('$x_1$')\n",
    "    plt.ylabel('$x_2$', rotation=0)\n",
    "\n",
    "plt.tight_layout()\n",
    "plt.show()"
   ]
  },
  {
   "cell_type": "markdown",
   "metadata": {},
   "source": [
    "### 8.5) Use Multi-Layer Perceptron Classifier to model XOR function\n",
    "https://scikit-learn.org/stable/modules/generated/sklearn.neural_network.MLPClassifier.html"
   ]
  },
  {
   "cell_type": "code",
   "execution_count": null,
   "metadata": {},
   "outputs": [],
   "source": [
    "X = np.array(inputs)\n",
    "y = np.array(output_XOR)\n",
    "\n",
    "mlp_clf = neural_network.MLPClassifier(hidden_layer_sizes=(5, 5), solver='sgd', learning_rate_init=0.05,\n",
    "                                       tol=1e-3, random_state=0)\n",
    "\n",
    "mlp_clf.fit(X, y)\n",
    "\n",
    "plt.figure()\n",
    "ax = plt.subplot(111)\n",
    "\n",
    "plt.scatter(X[y==0, 0], X[y==0, 1], color='r', alpha=1, label='Class 0')\n",
    "plt.scatter(X[y==1, 0], X[y==1, 1], color='b', alpha=1, label='Class 1')\n",
    "\n",
    "plot_decision_boundary(ax, mlp_clf, plt.cm.RdBu)\n",
    "    \n",
    "plt.xticks([0, 1])\n",
    "plt.yticks([0, 1])\n",
    "\n",
    "plt.title(gates[i])\n",
    "plt.xlabel('$x_1$')\n",
    "plt.ylabel('$x_2$', rotation=0)\n",
    "\n",
    "plt.show()"
   ]
  },
  {
   "cell_type": "markdown",
   "metadata": {},
   "source": [
    "### 8.6) Load Digit classification dataset and normalize\n",
    "https://scikit-learn.org/stable/datasets/index.html#digits-dataset"
   ]
  },
  {
   "cell_type": "code",
   "execution_count": null,
   "metadata": {},
   "outputs": [],
   "source": [
    "X, y = load_digits(return_X_y=True)\n",
    "\n",
    "X_train, X_test, y_train, y_test = train_test_split(X, y, test_size=0.2, train_size=0.8, random_state=0)\n",
    "\n",
    "scaler = MinMaxScaler()\n",
    "\n",
    "X_train = scaler.fit_transform(X_train)\n",
    "\n",
    "X_test = scaler.transform(X_test)"
   ]
  },
  {
   "cell_type": "markdown",
   "metadata": {},
   "source": [
    "### 8.7) Evaluate MLP Classifier on Digits dataset"
   ]
  },
  {
   "cell_type": "code",
   "execution_count": null,
   "metadata": {},
   "outputs": [],
   "source": [
    "mlp_clf = neural_network.MLPClassifier(hidden_layer_sizes=(100, 100), max_iter=500, random_state=0)\n",
    "\n",
    "mlp_clf.fit(X_train, y_train)\n",
    "\n",
    "y_pred = mlp_clf.predict(X_test)\n",
    "\n",
    "mlp_clf_accuracy = accuracy_score(y_test, y_pred)\n",
    "\n",
    "print('MLP Classifier accuracy: ', mlp_clf_accuracy)"
   ]
  },
  {
   "cell_type": "markdown",
   "metadata": {},
   "source": [
    "### 8.8) Check some of the MLP Classifier parameters"
   ]
  },
  {
   "cell_type": "code",
   "execution_count": null,
   "metadata": {},
   "outputs": [],
   "source": [
    "print('MLP Loss Function: ', mlp_clf.loss)\n",
    "print('MLP Hidden Layer Activation Function: ', mlp_clf.activation)\n",
    "print('MLP Output Layer Activation Function: ', mlp_clf.out_activation_)\n",
    "print('MLP Optimization Algorithm: ', mlp_clf.solver)"
   ]
  }
 ],
 "metadata": {
  "kernelspec": {
   "display_name": "Python 3",
   "language": "python",
   "name": "python3"
  },
  "language_info": {
   "codemirror_mode": {
    "name": "ipython",
    "version": 3
   },
   "file_extension": ".py",
   "mimetype": "text/x-python",
   "name": "python",
   "nbconvert_exporter": "python",
   "pygments_lexer": "ipython3",
   "version": "3.7.2"
  }
 },
 "nbformat": 4,
 "nbformat_minor": 2
}
