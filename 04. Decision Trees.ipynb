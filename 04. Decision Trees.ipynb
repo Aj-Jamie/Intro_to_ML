{
 "cells": [
  {
   "cell_type": "markdown",
   "metadata": {},
   "source": [
    "### 4.1) Import modules"
   ]
  },
  {
   "cell_type": "code",
   "execution_count": null,
   "metadata": {},
   "outputs": [],
   "source": [
    "from sklearn.datasets import load_breast_cancer, load_diabetes\n",
    "from sklearn.model_selection import train_test_split\n",
    "from sklearn import tree\n",
    "from sklearn import ensemble\n",
    "import pickle"
   ]
  },
  {
   "cell_type": "markdown",
   "metadata": {},
   "source": [
    "### 4.2) Load Wisconsin breast cancer classification dataset\n",
    "https://scikit-learn.org/stable/datasets/index.html#breast-cancer-dataset"
   ]
  },
  {
   "cell_type": "code",
   "execution_count": null,
   "metadata": {},
   "outputs": [],
   "source": [
    "X, y = load_breast_cancer(return_X_y=True)\n",
    "\n",
    "X_train, X_test, y_train, y_test = train_test_split(X, y, test_size=0.2, train_size=0.8, random_state=0)\n",
    "\n",
    "print('Training features size: ', X_train.shape)\n",
    "print('Testing features size: ', X_test.shape)\n",
    "print('Training targets size: ', y_train.shape)\n",
    "print('Testing targets size: ', y_test.shape)"
   ]
  },
  {
   "cell_type": "markdown",
   "metadata": {},
   "source": [
    "### 4.3) Define accuracy function"
   ]
  },
  {
   "cell_type": "code",
   "execution_count": null,
   "metadata": {},
   "outputs": [],
   "source": [
    "def accuracy(y_true, y_pred):\n",
    "    \n",
    "    m = len(y_true)\n",
    "    num_correct = 0\n",
    "    \n",
    "    for i in range(m):\n",
    "        \n",
    "        if y_pred[i] == y_true[i]:\n",
    "            \n",
    "            num_correct += 1\n",
    "    \n",
    "    accuracy = num_correct / m\n",
    "    \n",
    "    return accuracy"
   ]
  },
  {
   "cell_type": "markdown",
   "metadata": {},
   "source": [
    "### 4.4) Train and evaluate Decision Tree classifier"
   ]
  },
  {
   "cell_type": "code",
   "execution_count": null,
   "metadata": {},
   "outputs": [],
   "source": [
    "dt_clf = tree.DecisionTreeClassifier(max_depth=5, random_state=0) # max_depth applies regularization\n",
    "dt_clf.fit(X_train, y_train)\n",
    "\n",
    "y_pred = dt_clf.predict(X_test)\n",
    "dt_clf_accuracy = accuracy(y_test, y_pred)\n",
    "\n",
    "print('Decision Tree Classifier accuracy: ', dt_clf_accuracy)"
   ]
  },
  {
   "cell_type": "markdown",
   "metadata": {},
   "source": [
    "### 4.5) Save model using pickle"
   ]
  },
  {
   "cell_type": "code",
   "execution_count": null,
   "metadata": {},
   "outputs": [],
   "source": [
    "pickle.dump(dt_clf, open('Desicion_tree_classification_for_breast_cancer_dataset.p', 'wb'))"
   ]
  },
  {
   "cell_type": "markdown",
   "metadata": {},
   "source": [
    "### 4.6) Visualize Decision Tree"
   ]
  },
  {
   "cell_type": "code",
   "execution_count": null,
   "metadata": {},
   "outputs": [],
   "source": [
    "import pydotplus\n",
    "from IPython.display import Image\n",
    " \n",
    "dot_data = tree.export_graphviz(dt_clf,\n",
    "                                out_file = None,\n",
    "                                max_depth = 5,\n",
    "                                filled = False,\n",
    "                                rounded = True,\n",
    "                                leaves_parallel = False,\n",
    "                                impurity = True,\n",
    "                                proportion = False,\n",
    "                                label = 'all',\n",
    "                                class_names = ['Malignant','Benign'])\n",
    "\n",
    "graph = pydotplus.graph_from_dot_data(dot_data)\n",
    "graph.write_png('DecisionTree.png')\n",
    "Image('DecisionTree.png')"
   ]
  },
  {
   "cell_type": "markdown",
   "metadata": {},
   "source": [
    "### 4.7) Train and evaluate Random Forest classifier "
   ]
  },
  {
   "cell_type": "code",
   "execution_count": null,
   "metadata": {},
   "outputs": [],
   "source": [
    "rf_clf = ensemble.RandomForestClassifier(max_depth=10, random_state=0)\n",
    "rf_clf.fit(X_train, y_train)\n",
    "\n",
    "y_pred = rf_clf.predict(X_test)\n",
    "rf_clf_accuracy = accuracy(y_test, y_pred)\n",
    "\n",
    "print('Random Forest Classifier accuracy: ', rf_clf_accuracy)"
   ]
  },
  {
   "cell_type": "markdown",
   "metadata": {},
   "source": [
    "### 4.8) Load Diabetes regression dataset\n",
    "https://scikit-learn.org/stable/datasets/index.html#diabetes-dataset"
   ]
  },
  {
   "cell_type": "code",
   "execution_count": null,
   "metadata": {},
   "outputs": [],
   "source": [
    "X, y = load_diabetes(return_X_y=True)\n",
    "\n",
    "X_train, X_test, y_train, y_test = train_test_split(X, y, test_size=0.2, train_size=0.8, random_state=0)\n",
    "\n",
    "print('Training features size: ', X_train.shape)\n",
    "print('Testing features size: ', X_test.shape)\n",
    "print('Training targets size: ', y_train.shape)\n",
    "print('Testing targets size: ', y_test.shape)"
   ]
  },
  {
   "cell_type": "markdown",
   "metadata": {},
   "source": [
    "### 4.9) Define error function"
   ]
  },
  {
   "cell_type": "code",
   "execution_count": null,
   "metadata": {},
   "outputs": [],
   "source": [
    "def MSE(y_true, y_pred):\n",
    "    \n",
    "    m = len(y_true)\n",
    "    \n",
    "    mse = sum((1 / m) * ((y_true-y_pred)**2))\n",
    "    \n",
    "    return mse"
   ]
  },
  {
   "cell_type": "markdown",
   "metadata": {},
   "source": [
    "### 4.10) Train and evaluate a Decision Tree regression model"
   ]
  },
  {
   "cell_type": "code",
   "execution_count": null,
   "metadata": {},
   "outputs": [],
   "source": [
    "dt_reg = tree.DecisionTreeRegressor(max_depth=5, random_state=0)\n",
    "dt_reg.fit(X_train, y_train)\n",
    "\n",
    "y_pred = dt_reg.predict(X_test)\n",
    "dt_reg_error = MSE(y_test, y_pred)\n",
    "\n",
    "print('Decision Tree Regressor error: ', dt_reg_error)"
   ]
  },
  {
   "cell_type": "markdown",
   "metadata": {},
   "source": [
    "### 4.11) Save model using pickle"
   ]
  },
  {
   "cell_type": "code",
   "execution_count": null,
   "metadata": {},
   "outputs": [],
   "source": [
    "pickle.dump(dt_reg, open('Desicion_tree_regression_for_diabetes_dataset.p', 'wb'))"
   ]
  },
  {
   "cell_type": "markdown",
   "metadata": {},
   "source": [
    "### 4.12) Train and evaluate a Random Forest regression model"
   ]
  },
  {
   "cell_type": "code",
   "execution_count": null,
   "metadata": {},
   "outputs": [],
   "source": [
    "rf_reg = ensemble.RandomForestRegressor(max_depth=5, random_state=0)\n",
    "rf_reg.fit(X_train, y_train)\n",
    "\n",
    "y_pred = rf_reg.predict(X_test)\n",
    "rf_reg_error = MSE(y_test, y_pred)\n",
    "\n",
    "print('Random Forest Regressor error: ', rf_reg_error)"
   ]
  }
 ],
 "metadata": {
  "kernelspec": {
   "display_name": "Python 3",
   "language": "python",
   "name": "python3"
  },
  "language_info": {
   "codemirror_mode": {
    "name": "ipython",
    "version": 3
   },
   "file_extension": ".py",
   "mimetype": "text/x-python",
   "name": "python",
   "nbconvert_exporter": "python",
   "pygments_lexer": "ipython3",
   "version": "3.7.2"
  }
 },
 "nbformat": 4,
 "nbformat_minor": 2
}
