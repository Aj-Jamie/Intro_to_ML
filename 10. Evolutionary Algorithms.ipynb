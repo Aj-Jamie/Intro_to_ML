{
 "cells": [
  {
   "cell_type": "markdown",
   "metadata": {},
   "source": [
    "### 10.1) Import modules"
   ]
  },
  {
   "cell_type": "code",
   "execution_count": null,
   "metadata": {},
   "outputs": [],
   "source": [
    "import numpy as np\n",
    "import matplotlib.pyplot as plt"
   ]
  },
  {
   "cell_type": "markdown",
   "metadata": {},
   "source": [
    "### 10.2) Define Gaussian distribution function"
   ]
  },
  {
   "cell_type": "code",
   "execution_count": null,
   "metadata": {},
   "outputs": [],
   "source": [
    "def gaussian(x, mean, std):\n",
    "    return np.exp(-np.power(x - mean, 2.) / (2 * np.power(std, 2.)))"
   ]
  },
  {
   "cell_type": "markdown",
   "metadata": {},
   "source": [
    "### 10.3) Define and visualize target function"
   ]
  },
  {
   "cell_type": "code",
   "execution_count": null,
   "metadata": {},
   "outputs": [],
   "source": [
    "np.random.seed(3)\n",
    "\n",
    "time = np.linspace(0, 100, 500)\n",
    "P = np.random.randint(1, 100, 7)\n",
    "\n",
    "f_x = P[0] + gaussian(time, P[1], P[2]) + gaussian(time, P[3], P[4]) + gaussian(time, P[5], P[6])\n",
    "\n",
    "f_x_plus_noise = f_x + np.random.normal(0, 0.1, 500)\n",
    "\n",
    "plt.figure()\n",
    "plt.plot(time, f_x, lw=2, label='Target Function')\n",
    "plt.plot(time, f_x_plus_noise, zorder=0, label='Target plus Noise')\n",
    "plt.legend()\n",
    "plt.show()\n",
    "\n",
    "print('Target Function Parameter Values: ', P)"
   ]
  },
  {
   "cell_type": "markdown",
   "metadata": {},
   "source": [
    "### 10.4) Define Fitness Function"
   ]
  },
  {
   "cell_type": "code",
   "execution_count": null,
   "metadata": {},
   "outputs": [],
   "source": [
    "def calculate_fitness(target, query):\n",
    "    \n",
    "    euclidean_distance = sum((target-query)**2) / len(target)\n",
    "    \n",
    "    fitness = 1 / (1 + euclidean_distance)\n",
    "    \n",
    "    return fitness"
   ]
  },
  {
   "cell_type": "markdown",
   "metadata": {},
   "source": [
    "### 10.5) Check fitness of target funciton and target function plus noise"
   ]
  },
  {
   "cell_type": "code",
   "execution_count": null,
   "metadata": {},
   "outputs": [],
   "source": [
    "fitness = calculate_fitness(f_x, f_x_plus_noise)\n",
    "\n",
    "print(fitness)"
   ]
  },
  {
   "cell_type": "markdown",
   "metadata": {},
   "source": [
    "### 10.6) Initialize ten random models"
   ]
  },
  {
   "cell_type": "code",
   "execution_count": null,
   "metadata": {},
   "outputs": [],
   "source": [
    "np.random.seed(0)\n",
    "models = np.random.randint(1, 100, (10, 7))\n",
    "\n",
    "print(models)"
   ]
  },
  {
   "cell_type": "markdown",
   "metadata": {},
   "source": [
    "### 10.7) Define Cross-Over function (and check it)"
   ]
  },
  {
   "cell_type": "code",
   "execution_count": null,
   "metadata": {},
   "outputs": [],
   "source": [
    "def cross_over(model_1, model_2):\n",
    "    \n",
    "    cross_point = np.random.randint(1, len(model_1) - 1)\n",
    "    \n",
    "    model_12 = np.concatenate([model_1[:cross_point], model_2[cross_point:]])\n",
    "    \n",
    "    model_21 = np.concatenate([model_2[:cross_point], model_1[cross_point:]])\n",
    "    \n",
    "    return model_12, model_21\n",
    "\n",
    "\n",
    "crossed_1, crossed_2 = cross_over(models[0], models[1])\n",
    "print(crossed_1)\n",
    "print(crossed_2)"
   ]
  },
  {
   "cell_type": "markdown",
   "metadata": {},
   "source": [
    "### 10.8) Define Point Mutation function (and check it)"
   ]
  },
  {
   "cell_type": "code",
   "execution_count": null,
   "metadata": {},
   "outputs": [],
   "source": [
    "def point_mutation(model):\n",
    "    \n",
    "    mutation_point = np.random.randint(0, len(model))\n",
    "    \n",
    "    mutated_model = model.copy()\n",
    "    \n",
    "    mutated_model[mutation_point] = np.random.randint(1, 100)\n",
    "    \n",
    "    return mutated_model\n",
    "    \n",
    "\n",
    "mutated_1 = point_mutation(models[0])\n",
    "print(mutated_1)"
   ]
  },
  {
   "cell_type": "markdown",
   "metadata": {},
   "source": [
    "### 10.9) Define Model Ranking function (and check it)"
   ]
  },
  {
   "cell_type": "code",
   "execution_count": null,
   "metadata": {},
   "outputs": [],
   "source": [
    "def rank_models(models, fitness_function):\n",
    "    \n",
    "    fitness_scores = []\n",
    "    \n",
    "    for i in range(models.shape[0]):\n",
    "        \n",
    "        P = models[i]\n",
    "\n",
    "        f_x_model_i = P[0] + gaussian(time, P[1], P[2]) + gaussian(time, P[3], P[4]) + gaussian(time, P[5], P[6])\n",
    "        \n",
    "        fitness_score = calculate_fitness(f_x_plus_noise, f_x_model_i)\n",
    "        \n",
    "        fitness_scores.append((models[i], fitness_score))\n",
    "    \n",
    "    fitness_scores = sorted(fitness_scores, key=lambda tup: tup[1], reverse=True)\n",
    "    \n",
    "    ranked_models, ranked_scores = zip(*fitness_scores)\n",
    "    \n",
    "    ranked_models, ranked_scores = np.array(ranked_models), np.array(ranked_scores)\n",
    "    \n",
    "    return ranked_models, ranked_scores\n",
    "\n",
    "\n",
    "gen_1_ranked, gen_1_scores = rank_models(models, calculate_fitness)\n",
    "\n",
    "print(gen_1_ranked)\n",
    "print('Fitnesses: ', gen_1_scores)"
   ]
  },
  {
   "cell_type": "markdown",
   "metadata": {},
   "source": [
    "### 10.10) Define Replication function (and check it)"
   ]
  },
  {
   "cell_type": "code",
   "execution_count": null,
   "metadata": {},
   "outputs": [],
   "source": [
    "def replicate(ranked_gen):\n",
    "    \n",
    "    next_gen = np.zeros(ranked_gen.shape)\n",
    "    \n",
    "    remove_indices = np.arange(int(ranked_gen.shape[0]/2), ranked_gen.shape[0])    \n",
    "    models_to_reproduce = np.delete(ranked_gen, remove_indices, axis=0)\n",
    "    \n",
    "    # copy the top-ranked 1/5 of models\n",
    "    copy_indices = np.arange(0, int(next_gen.shape[0] * 0.2))\n",
    "    next_gen[copy_indices] = models_to_reproduce[copy_indices]\n",
    "    \n",
    "    # apply cross-over \n",
    "    idx = copy_indices[-1] + 1\n",
    "    i = 0\n",
    "    \n",
    "    while idx < int(next_gen.shape[0] * 0.75):\n",
    "        \n",
    "        model_1, model_2 = cross_over(models_to_reproduce[i], models_to_reproduce[i + 1])\n",
    "            \n",
    "        next_gen[idx] = model_1\n",
    "        next_gen[idx + 1] = model_2\n",
    "        \n",
    "        i += 1\n",
    "        idx += 2   \n",
    "    \n",
    "    \n",
    "    # apply point mutations\n",
    "    while idx < next_gen.shape[0]:\n",
    "        \n",
    "        random_index = np.random.randint(0, models_to_reproduce.shape[0])\n",
    "        \n",
    "        next_gen[idx] = point_mutation(models_to_reproduce[random_index])\n",
    "        \n",
    "        idx += 1\n",
    "        \n",
    "    \n",
    "    return next_gen\n",
    "    \n",
    "\n",
    "gen_2 = replicate(gen_1_ranked)\n",
    "print(gen_2)"
   ]
  },
  {
   "cell_type": "markdown",
   "metadata": {},
   "source": [
    "### 10.11) Run Genetic Algorithm in a loop"
   ]
  },
  {
   "cell_type": "code",
   "execution_count": null,
   "metadata": {},
   "outputs": [],
   "source": [
    "max_generations = 500\n",
    "fitness_threshold = 0.99\n",
    "\n",
    "gen = 0\n",
    "max_fitness = 0\n",
    "\n",
    "np.random.seed(0)\n",
    "models = np.random.randint(1, 100, (100, 7)) # Randomly initialize 100 models\n",
    "\n",
    "while (gen < max_generations) and (max_fitness < fitness_threshold):\n",
    "    \n",
    "    gen_ranked, gen_scores = rank_models(models, calculate_fitness)\n",
    "    \n",
    "    max_fitness = gen_scores[0]\n",
    "    \n",
    "    print('Generation %i Maximum Fitness: %.3f' % (gen, max_fitness))\n",
    "    \n",
    "    models = replicate(gen_ranked)\n",
    "    \n",
    "    gen += 1\n",
    "\n",
    "\n",
    "print('Best model parameters: ', models[0])"
   ]
  },
  {
   "cell_type": "markdown",
   "metadata": {},
   "source": [
    "### 10.12) Plot best model solution beside originating functions"
   ]
  },
  {
   "cell_type": "code",
   "execution_count": null,
   "metadata": {},
   "outputs": [],
   "source": [
    "time = np.linspace(0, 100, 500)\n",
    "\n",
    "bm = models[0] # best model\n",
    "\n",
    "print('Best Score: ', gen_scores[0])\n",
    "\n",
    "bm_x = bm[0] + gaussian(time, bm[1], bm[2]) + gaussian(time, bm[3], bm[4]) + gaussian(time, bm[5], bm[6])\n",
    "\n",
    "plt.figure()\n",
    "plt.plot(time, f_x, lw=2, label='Target Function')\n",
    "plt.plot(time, f_x_plus_noise, zorder=0, label='Target plus Noise')\n",
    "plt.plot(time, bm_x, lw=2, label='Best Model')\n",
    "plt.legend()\n",
    "plt.show()\n",
    "\n",
    "print('Target Parameter Values: ', P)\n",
    "print('Solution Parameter Values: ', bm.astype('int'))"
   ]
  }
 ],
 "metadata": {
  "kernelspec": {
   "display_name": "Python 3",
   "language": "python",
   "name": "python3"
  },
  "language_info": {
   "codemirror_mode": {
    "name": "ipython",
    "version": 3
   },
   "file_extension": ".py",
   "mimetype": "text/x-python",
   "name": "python",
   "nbconvert_exporter": "python",
   "pygments_lexer": "ipython3",
   "version": "3.7.2"
  }
 },
 "nbformat": 4,
 "nbformat_minor": 2
}
