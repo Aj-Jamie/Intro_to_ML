{
 "cells": [
  {
   "cell_type": "markdown",
   "metadata": {},
   "source": [
    "### 8.1) Import modules"
   ]
  },
  {
   "cell_type": "code",
   "execution_count": null,
   "metadata": {},
   "outputs": [],
   "source": [
    "from sklearn.datasets import load_diabetes, load_digits\n",
    "from sklearn.model_selection import GridSearchCV, RandomizedSearchCV\n",
    "from sklearn.preprocessing import StandardScaler, MinMaxScaler\n",
    "from sklearn import svm\n",
    "from time import time\n",
    "from matplotlib import pyplot as plt"
   ]
  },
  {
   "cell_type": "markdown",
   "metadata": {},
   "source": [
    "### 8.1) Load Diabetes regression dataset (it is already standardize)\n",
    "https://scikit-learn.org/stable/datasets/index.html#diabetes-dataset"
   ]
  },
  {
   "cell_type": "code",
   "execution_count": null,
   "metadata": {},
   "outputs": [],
   "source": [
    "X, y = load_diabetes(return_X_y=True)"
   ]
  },
  {
   "cell_type": "markdown",
   "metadata": {},
   "source": [
    "### 8.2) Define hyper-parameter space for Support Vector Regression model"
   ]
  },
  {
   "cell_type": "code",
   "execution_count": null,
   "metadata": {},
   "outputs": [],
   "source": [
    "parameters = {'kernel': ['linear', 'poly', 'rbf', 'sigmoid'],\n",
    "              'degree': [2, 3], # polynomial degree - only applies to 'poly' kernel\n",
    "              'gamma': ['scale', 'auto'],\n",
    "              'C': [1, 10, 100, 1000],\n",
    "              'epsilon': [1, 10, 100, 1000]}"
   ]
  },
  {
   "cell_type": "markdown",
   "metadata": {},
   "source": [
    "### 8.3) Use Exhaustive Grid Search for hyper-parameter tuning"
   ]
  },
  {
   "cell_type": "code",
   "execution_count": null,
   "metadata": {},
   "outputs": [],
   "source": [
    "start_time = time()\n",
    "\n",
    "svm_reg = svm.SVR()\n",
    "\n",
    "svm_reg_tuning = GridSearchCV(svm_reg, parameters, cv=5)\n",
    "\n",
    "svm_reg_tuning.fit(X, y)\n",
    "\n",
    "print('Time taken for Exhaustive Grid Search: ', time() - start_time)\n",
    "\n",
    "print('Best parameters: ', svm_reg_tuning.best_params_)\n",
    "print('Best score (R^2): ', svm_reg_tuning.best_score_)"
   ]
  },
  {
   "cell_type": "markdown",
   "metadata": {},
   "source": [
    "### 8.4) Use Randomized Grid Search for hyper-parameter tuning"
   ]
  },
  {
   "cell_type": "code",
   "execution_count": null,
   "metadata": {},
   "outputs": [],
   "source": [
    "start_time = time()\n",
    "\n",
    "svm_reg = svm.SVR()\n",
    "\n",
    "svm_reg_tuning = RandomizedSearchCV(svm_reg, parameters, cv=5, random_state=0)\n",
    "\n",
    "svm_reg_tuning.fit(X, y)\n",
    "\n",
    "print('Time taken for Randomized Grid Search: ', time() - start_time)\n",
    "\n",
    "print('Best parameters: ', svm_reg_tuning.best_params_)\n",
    "print('Best score (R^2): ', svm_reg_tuning.best_score_)"
   ]
  },
  {
   "cell_type": "markdown",
   "metadata": {},
   "source": [
    "### 8.5) Load Digit classification dataset and normalize its features\n",
    "https://scikit-learn.org/stable/datasets/index.html#digits-dataset"
   ]
  },
  {
   "cell_type": "code",
   "execution_count": null,
   "metadata": {},
   "outputs": [],
   "source": [
    "X, y = load_digits(return_X_y=True)\n",
    "\n",
    "scaler = MinMaxScaler() # Normalization\n",
    "\n",
    "X = scaler.fit_transform(X)"
   ]
  },
  {
   "cell_type": "markdown",
   "metadata": {},
   "source": [
    "### 8.6) Visualize Digit data"
   ]
  },
  {
   "cell_type": "code",
   "execution_count": null,
   "metadata": {},
   "outputs": [],
   "source": [
    "X_img = X.reshape(-1, 8, 8)\n",
    "\n",
    "plt.figure(figsize=(12,4))\n",
    "\n",
    "for i in range(10):\n",
    "    \n",
    "    plt.subplot(2, 5, i + 1)\n",
    "    \n",
    "    plt.imshow(X_img[i], cmap=plt.cm.gray_r)\n",
    "    \n",
    "    plt.axis('off')\n",
    "\n",
    "plt.show()"
   ]
  },
  {
   "cell_type": "markdown",
   "metadata": {},
   "source": [
    "### 8.7) Define hyper-parameter space for Support Vector Classifier model"
   ]
  },
  {
   "cell_type": "code",
   "execution_count": null,
   "metadata": {},
   "outputs": [],
   "source": [
    "parameters = {'kernel': ['linear', 'poly', 'rbf', 'sigmoid'],\n",
    "              'degree': [2, 3, 4],\n",
    "              'gamma': ['scale', 'auto'],\n",
    "              'C': [1, 10, 100, 1000]}"
   ]
  },
  {
   "cell_type": "markdown",
   "metadata": {},
   "source": [
    "### 8.8) Use Exhaustive Grid Search"
   ]
  },
  {
   "cell_type": "code",
   "execution_count": null,
   "metadata": {},
   "outputs": [],
   "source": [
    "start_time = time()\n",
    "\n",
    "svm_clf = svm.SVC()\n",
    "\n",
    "svm_clf_tuning = GridSearchCV(svm_clf, parameters, cv=5)\n",
    "\n",
    "svm_clf_tuning.fit(X, y)\n",
    "\n",
    "print('Time taken for Exhaustive Grid Search: ', time() - start_time)\n",
    "\n",
    "print('Best parameters: ', svm_clf_tuning.best_params_)\n",
    "print('Best accuracy: ', svm_clf_tuning.best_score_)"
   ]
  },
  {
   "cell_type": "markdown",
   "metadata": {},
   "source": [
    "### 8.9) Use Randomized Grid Search"
   ]
  },
  {
   "cell_type": "code",
   "execution_count": null,
   "metadata": {},
   "outputs": [],
   "source": [
    "start_time = time()\n",
    "\n",
    "svm_clf = svm.SVC()\n",
    "\n",
    "svm_clf_tuning = RandomizedSearchCV(svm_clf, parameters, cv=5, random_state=0)\n",
    "\n",
    "svm_clf_tuning.fit(X, y)\n",
    "\n",
    "print('Time taken for Randomized Grid Search: ', time() - start_time)\n",
    "\n",
    "print('Best parameters: ', svm_clf_tuning.best_params_)\n",
    "print('Best accuracy: ', svm_clf_tuning.best_score_)"
   ]
  }
 ],
 "metadata": {
  "kernelspec": {
   "display_name": "Python 3",
   "language": "python",
   "name": "python3"
  },
  "language_info": {
   "codemirror_mode": {
    "name": "ipython",
    "version": 3
   },
   "file_extension": ".py",
   "mimetype": "text/x-python",
   "name": "python",
   "nbconvert_exporter": "python",
   "pygments_lexer": "ipython3",
   "version": "3.7.2"
  }
 },
 "nbformat": 4,
 "nbformat_minor": 2
}
