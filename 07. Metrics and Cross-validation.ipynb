{
 "cells": [
  {
   "cell_type": "markdown",
   "metadata": {},
   "source": [
    "### 7.1) Import modules"
   ]
  },
  {
   "cell_type": "code",
   "execution_count": null,
   "metadata": {},
   "outputs": [],
   "source": [
    "from sklearn.datasets import load_diabetes, load_breast_cancer\n",
    "from sklearn.model_selection import train_test_split, KFold, learning_curve\n",
    "from sklearn.tree import DecisionTreeRegressor, DecisionTreeClassifier\n",
    "from sklearn import metrics\n",
    "import matplotlib.pyplot as plt\n",
    "import numpy as np\n",
    "import pickle"
   ]
  },
  {
   "cell_type": "markdown",
   "metadata": {},
   "source": [
    "### 7.2) Load and split Diabetes dataset for regression"
   ]
  },
  {
   "cell_type": "code",
   "execution_count": null,
   "metadata": {},
   "outputs": [],
   "source": [
    "X, y = load_diabetes(return_X_y=True)\n",
    "\n",
    "X_train, X_test, y_train, y_test = train_test_split(X, y, test_size=0.2, train_size=0.8, random_state=0)"
   ]
  },
  {
   "cell_type": "markdown",
   "metadata": {},
   "source": [
    "### 7.3) Inspect data statistics"
   ]
  },
  {
   "cell_type": "code",
   "execution_count": null,
   "metadata": {},
   "outputs": [],
   "source": [
    "print('Target Mean: ', y.mean())\n",
    "print('Target SD: ', y.std())\n",
    "print('Counts: ', len(y))\n",
    "print('Test data count: ', len(y_test))"
   ]
  },
  {
   "cell_type": "markdown",
   "metadata": {},
   "source": [
    "### 7.4) Define mean absolute percentage error function"
   ]
  },
  {
   "cell_type": "code",
   "execution_count": null,
   "metadata": {},
   "outputs": [],
   "source": [
    "def mean_absolute_percentage_error(y_true, y_pred):\n",
    "    \n",
    "    mape = (abs((y_true - y_pred) / y_true)).mean() * 100\n",
    "    \n",
    "    return mape"
   ]
  },
  {
   "cell_type": "markdown",
   "metadata": {},
   "source": [
    "### 7.5) Load and evaluate regression model"
   ]
  },
  {
   "cell_type": "code",
   "execution_count": null,
   "metadata": {},
   "outputs": [],
   "source": [
    "dt_reg = pickle.load(open('Desicion_tree_regression_for_diabetes_dataset.p', 'rb'))\n",
    "\n",
    "y_pred = dt_reg.predict(X_test)\n",
    "\n",
    "# Evaluation metrics\n",
    "dt_reg_mse = metrics.mean_squared_error(y_test, y_pred)\n",
    "dt_reg_mae = metrics.mean_absolute_error(y_test, y_pred)\n",
    "dt_reg_mdae = metrics.median_absolute_error(y_test, y_pred)\n",
    "dt_reg_mape = mean_absolute_percentage_error(y_test, y_pred)\n",
    "dt_reg_r2 = metrics.r2_score(y_test, y_pred)\n",
    "\n",
    "print('Mean Square Error: ', dt_reg_mse)\n",
    "print('Mean Absolute Error: ', dt_reg_mae)\n",
    "print('Median Absolute Error: ', dt_reg_mdae)\n",
    "print('Mean Absolute Percentage Error: ', dt_reg_mape)\n",
    "print('Coefficient of Determination (R^2): ', dt_reg_r2)"
   ]
  },
  {
   "cell_type": "markdown",
   "metadata": {},
   "source": [
    "### 7.6) Perform k-fold cross-validation"
   ]
  },
  {
   "cell_type": "code",
   "execution_count": null,
   "metadata": {},
   "outputs": [],
   "source": [
    "k_fold = KFold(n_splits=5, shuffle=False)\n",
    "\n",
    "mse_list = []\n",
    "\n",
    "for train_indices, test_indices in k_fold.split(X):\n",
    "    \n",
    "    X_train, X_test = X[train_indices], X[test_indices]\n",
    "    y_train, y_test = y[train_indices], y[test_indices]\n",
    "    \n",
    "    dt_reg = DecisionTreeRegressor(max_depth=3, random_state=0)\n",
    "    dt_reg.fit(X_train, y_train)\n",
    "    \n",
    "    y_pred = dt_reg.predict(X_test)\n",
    "    \n",
    "    dt_reg_mse = metrics.mean_squared_error(y_test, y_pred)\n",
    "    print('Mean Square Error: ', dt_reg_mse)\n",
    "    \n",
    "    mse_list.append(dt_reg_mse)\n",
    "\n",
    "print('Overall MSE from 5-fold cross-validation: ', sum(mse_list)/len(mse_list))"
   ]
  },
  {
   "cell_type": "markdown",
   "metadata": {},
   "source": [
    "### 7.7) Load and split Wisconsin breast cancer classification dataset"
   ]
  },
  {
   "cell_type": "code",
   "execution_count": null,
   "metadata": {},
   "outputs": [],
   "source": [
    "X, y = load_breast_cancer(return_X_y=True)\n",
    "\n",
    "X_train, X_test, y_train, y_test = train_test_split(X, y, test_size=0.2, train_size=0.8, random_state=0)"
   ]
  },
  {
   "cell_type": "markdown",
   "metadata": {},
   "source": [
    "### 7.8) Load and evaluate classification model"
   ]
  },
  {
   "cell_type": "code",
   "execution_count": null,
   "metadata": {},
   "outputs": [],
   "source": [
    "dt_clf = pickle.load(open('Desicion_tree_classification_for_breast_cancer_dataset.p', 'rb'))\n",
    "\n",
    "y_pred = dt_clf.predict(X_test)\n",
    "\n",
    "dt_clf_accuracy = metrics.accuracy_score(y_test, y_pred)\n",
    "dt_clf_precision = metrics.precision_score(y_test, y_pred)\n",
    "dt_clf_recall = metrics.recall_score(y_test, y_pred)\n",
    "dt_clf_f1 = metrics.f1_score(y_test, y_pred)\n",
    "\n",
    "print('Accuracy: ', dt_clf_accuracy)\n",
    "print('Precision: ', dt_clf_precision)\n",
    "print('Recall: ', dt_clf_recall)\n",
    "print('F1 score: ', dt_clf_f1)"
   ]
  },
  {
   "cell_type": "markdown",
   "metadata": {},
   "source": [
    "### 7.9) Analyse confusion matrix of classification model"
   ]
  },
  {
   "cell_type": "code",
   "execution_count": null,
   "metadata": {},
   "outputs": [],
   "source": [
    "dt_clf_confusion_matrix = metrics.confusion_matrix(y_test, y_pred)\n",
    "\n",
    "print(dt_clf_confusion_matrix)"
   ]
  },
  {
   "cell_type": "markdown",
   "metadata": {},
   "source": [
    "### 7.10) Plot confusion matrix"
   ]
  },
  {
   "cell_type": "code",
   "execution_count": null,
   "metadata": {},
   "outputs": [],
   "source": [
    "plt.figure(figsize=(5, 4))\n",
    "plt.imshow(dt_clf_confusion_matrix, cmap='gray', vmin=0)\n",
    "plt.ylabel('True Class')\n",
    "plt.xlabel('Predicted Class')\n",
    "plt.xticks([0,1])\n",
    "plt.yticks([0,1])\n",
    "plt.colorbar(label='Instances')\n",
    "\n",
    "for i in range(2):\n",
    "    \n",
    "    for j in range(2):\n",
    "        \n",
    "        plt.text(i, j, str(dt_clf_confusion_matrix[i,j]), \n",
    "                 color='k' if dt_clf_confusion_matrix[i,j] > 35 else 'w', \n",
    "                 fontsize=16, ha='center', va='center')\n",
    "\n",
    "plt.show()"
   ]
  },
  {
   "cell_type": "markdown",
   "metadata": {},
   "source": [
    "### 7.11) Plot learning curve"
   ]
  },
  {
   "cell_type": "code",
   "execution_count": null,
   "metadata": {},
   "outputs": [],
   "source": [
    "train_sizes, train_scores, test_scores = learning_curve(dt_clf, X, y, train_sizes=np.linspace(0.1, 1.0, 10), cv=5)\n",
    "\n",
    "plt.figure(figsize=(7,5))\n",
    "\n",
    "plt.plot(train_sizes, train_scores.mean(axis=1), color='r', label='Train')\n",
    "\n",
    "plt.fill_between(train_sizes, train_scores.mean(axis=1) - train_scores.std(axis=1),\n",
    "                train_scores.mean(axis=1) + train_scores.std(axis=1),\n",
    "                color='r', alpha=0.3)\n",
    "\n",
    "plt.plot(train_sizes, test_scores.mean(axis=1), color='g', label='Test')\n",
    "\n",
    "plt.fill_between(train_sizes, test_scores.mean(axis=1) - test_scores.std(axis=1),\n",
    "                test_scores.mean(axis=1) + test_scores.std(axis=1),\n",
    "                color='g', alpha=0.3)\n",
    "\n",
    "plt.title('Learning Curve')\n",
    "plt.xlabel('Training Samples')\n",
    "plt.ylabel('Accuracy Score')\n",
    "plt.legend(loc='lower right')\n",
    "\n",
    "plt.show()"
   ]
  }
 ],
 "metadata": {
  "kernelspec": {
   "display_name": "Python 3",
   "language": "python",
   "name": "python3"
  },
  "language_info": {
   "codemirror_mode": {
    "name": "ipython",
    "version": 3
   },
   "file_extension": ".py",
   "mimetype": "text/x-python",
   "name": "python",
   "nbconvert_exporter": "python",
   "pygments_lexer": "ipython3",
   "version": "3.7.2"
  }
 },
 "nbformat": 4,
 "nbformat_minor": 2
}
