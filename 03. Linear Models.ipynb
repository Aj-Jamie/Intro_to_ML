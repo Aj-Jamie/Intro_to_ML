{
 "cells": [
  {
   "cell_type": "markdown",
   "metadata": {},
   "source": [
    "### 3.1) Import modules/submodules/classes"
   ]
  },
  {
   "cell_type": "code",
   "execution_count": null,
   "metadata": {},
   "outputs": [],
   "source": [
    "from sklearn.datasets import load_boston\n",
    "from sklearn.model_selection import train_test_split\n",
    "from sklearn import linear_model"
   ]
  },
  {
   "cell_type": "markdown",
   "metadata": {},
   "source": [
    "### 3.2) Load Boston house price dataset for regression tasks\n",
    "https://scikit-learn.org/stable/datasets/index.html#boston-dataset"
   ]
  },
  {
   "cell_type": "code",
   "execution_count": null,
   "metadata": {},
   "outputs": [],
   "source": [
    "X, y = load_boston(return_X_y=True)\n",
    "\n",
    "X_train, X_test, y_train, y_test = train_test_split(X, y, test_size=0.2, train_size=0.8, random_state=0)\n",
    "\n",
    "print('Training features size: ', X_train.shape)\n",
    "print('Testing features size: ', X_test.shape)\n",
    "print('Training targets size: ', y_train.shape)\n",
    "print('Testing targets size: ', y_test.shape)"
   ]
  },
  {
   "cell_type": "markdown",
   "metadata": {},
   "source": [
    "### 3.3) Define error function"
   ]
  },
  {
   "cell_type": "code",
   "execution_count": null,
   "metadata": {},
   "outputs": [],
   "source": [
    "def MSE(y_true, y_pred):\n",
    "    \n",
    "    m = len(y_true)\n",
    "    mse = sum((1 / m) * ((y_true-y_pred)**2))\n",
    "    \n",
    "    return mse"
   ]
  },
  {
   "cell_type": "markdown",
   "metadata": {},
   "source": [
    "### 3.4) Ordinary least squares linear regression"
   ]
  },
  {
   "cell_type": "code",
   "execution_count": null,
   "metadata": {},
   "outputs": [],
   "source": [
    "linear_reg = linear_model.LinearRegression()\n",
    "linear_reg.fit(X_train, y_train)\n",
    "\n",
    "y_pred = linear_reg.predict(X_test)\n",
    "linear_reg_mse = MSE(y_test, y_pred)\n",
    "\n",
    "print('Y-intercept: ', linear_reg.intercept_)\n",
    "print('Coefficients: ', linear_reg.coef_)\n",
    "print('Linear Regression MSE: ', linear_reg_mse)"
   ]
  },
  {
   "cell_type": "markdown",
   "metadata": {},
   "source": [
    "### 3.5) Ridge regression (with L2 regularization)"
   ]
  },
  {
   "cell_type": "code",
   "execution_count": null,
   "metadata": {},
   "outputs": [],
   "source": [
    "ridge_reg = linear_model.Ridge(alpha=1.0, random_state=0) # alpha hyper-parameter controls the amount of L2 regularization\n",
    "ridge_reg.fit(X_train, y_train)\n",
    "\n",
    "y_pred = ridge_reg.predict(X_test)\n",
    "ridge_reg_mse = MSE(y_test, y_pred)\n",
    "\n",
    "print('Y-intercept: ', ridge_reg.intercept_)\n",
    "print('Coefficients: ', ridge_reg.coef_)\n",
    "print('Ridge Regression MSE: ', ridge_reg_mse)"
   ]
  },
  {
   "cell_type": "markdown",
   "metadata": {},
   "source": [
    "### 3.6) Lasso regression (with L1 regularization)"
   ]
  },
  {
   "cell_type": "code",
   "execution_count": null,
   "metadata": {},
   "outputs": [],
   "source": [
    "lasso_reg = linear_model.Lasso(alpha=1.0, random_state=0) # alpha hyper-parameter controls the amount of L1 regularization\n",
    "lasso_reg.fit(X_train, y_train)\n",
    "\n",
    "y_pred = lasso_reg.predict(X_test)\n",
    "lasso_reg_mse = MSE(y_test, y_pred)\n",
    "\n",
    "print('Y-intercept: ', lasso_reg.intercept_)\n",
    "print('Coefficients: ', lasso_reg.coef_)\n",
    "print('Lasso Regression MSE: ', lasso_reg_mse)"
   ]
  },
  {
   "cell_type": "markdown",
   "metadata": {},
   "source": [
    "### 3.7) Elastic-net regression (mix of L1 and L2 regularization)"
   ]
  },
  {
   "cell_type": "code",
   "execution_count": null,
   "metadata": {},
   "outputs": [],
   "source": [
    "elastic_reg = linear_model.ElasticNet(alpha=1.0, l1_ratio=0.5) # alpha controls penalty terms, l1_ratio controls L1:L2 ratio \n",
    "elastic_reg.fit(X_train, y_train)\n",
    "\n",
    "y_pred = elastic_reg.predict(X_test)\n",
    "elastic_reg_mse = MSE(y_test, y_pred)\n",
    "\n",
    "print('Y-intercept: ', elastic_reg.intercept_)\n",
    "print('Coefficients: ', elastic_reg.coef_)\n",
    "print('Elastic-Net Regression MSE: ', elastic_reg_mse)"
   ]
  },
  {
   "cell_type": "markdown",
   "metadata": {},
   "source": [
    "### 3.8) Load encoded fruit dataset"
   ]
  },
  {
   "cell_type": "code",
   "execution_count": null,
   "metadata": {},
   "outputs": [],
   "source": [
    "from pandas import read_csv\n",
    "\n",
    "df = read_csv('./DATA/fruit_encoded.csv')\n",
    "df = df.drop(columns=['Unnamed: 0'])\n",
    "df.head()"
   ]
  },
  {
   "cell_type": "markdown",
   "metadata": {},
   "source": [
    "### 3.9) Split data into training and test sets"
   ]
  },
  {
   "cell_type": "code",
   "execution_count": null,
   "metadata": {},
   "outputs": [],
   "source": [
    "X = df.drop(columns=['Fruit']).to_numpy() # to_numpy() converts from pandas dataframe into numpy nd array\n",
    "y = df['Fruit'].to_numpy()\n",
    "\n",
    "X_train, X_test, y_train, y_test = train_test_split(X, y, test_size=0.2, train_size=0.8, random_state=0)\n",
    "\n",
    "print('Training features size: ', X_train.shape)\n",
    "print('Testing features size: ', X_test.shape)\n",
    "print('Training targets size: ', y_train.shape)\n",
    "print('Testing targets size: ', y_test.shape)"
   ]
  },
  {
   "cell_type": "markdown",
   "metadata": {},
   "source": [
    "### 3.10) Define accuracy function"
   ]
  },
  {
   "cell_type": "code",
   "execution_count": null,
   "metadata": {},
   "outputs": [],
   "source": [
    "def accuracy(y_true, y_pred):\n",
    "    \n",
    "    m = len(y_true)\n",
    "    num_correct = 0\n",
    "    \n",
    "    for i in range(m):\n",
    "        \n",
    "        if y_pred[i] == y_true[i]:\n",
    "            \n",
    "            num_correct += 1\n",
    "    \n",
    "    accuracy = num_correct / m\n",
    "    \n",
    "    return accuracy"
   ]
  },
  {
   "cell_type": "markdown",
   "metadata": {},
   "source": [
    "### 3.11) Train and evaluate Logistic Regression model (classifier)"
   ]
  },
  {
   "cell_type": "code",
   "execution_count": null,
   "metadata": {},
   "outputs": [],
   "source": [
    "log_reg_clf = linear_model.LogisticRegression(random_state=0)\n",
    "log_reg_clf.fit(X_train, y_train)\n",
    "\n",
    "y_pred = log_reg_clf.predict(X_test)\n",
    "\n",
    "log_reg_clf_acc = accuracy(y_test, y_pred)\n",
    "\n",
    "print('Logistic Regression Accuracy: ', log_reg_clf_acc)"
   ]
  }
 ],
 "metadata": {
  "kernelspec": {
   "display_name": "Python 3",
   "language": "python",
   "name": "python3"
  },
  "language_info": {
   "codemirror_mode": {
    "name": "ipython",
    "version": 3
   },
   "file_extension": ".py",
   "mimetype": "text/x-python",
   "name": "python",
   "nbconvert_exporter": "python",
   "pygments_lexer": "ipython3",
   "version": "3.7.2"
  }
 },
 "nbformat": 4,
 "nbformat_minor": 2
}
