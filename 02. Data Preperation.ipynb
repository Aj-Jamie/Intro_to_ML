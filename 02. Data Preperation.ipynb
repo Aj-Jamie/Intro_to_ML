{
 "cells": [
  {
   "cell_type": "markdown",
   "metadata": {},
   "source": [
    "### 2.1) Import pandas module for working with tables of data"
   ]
  },
  {
   "cell_type": "code",
   "execution_count": null,
   "metadata": {},
   "outputs": [],
   "source": [
    "import pandas as pd"
   ]
  },
  {
   "cell_type": "markdown",
   "metadata": {},
   "source": [
    "### 2.2) Load data from \"fruit.csv\""
   ]
  },
  {
   "cell_type": "code",
   "execution_count": null,
   "metadata": {},
   "outputs": [],
   "source": [
    "fruit_original = pd.read_csv('./DATA/fruit.csv', index_col=0)"
   ]
  },
  {
   "cell_type": "markdown",
   "metadata": {},
   "source": [
    "### 2.3) Inspect the data and check for missing valeus"
   ]
  },
  {
   "cell_type": "code",
   "execution_count": null,
   "metadata": {},
   "outputs": [],
   "source": [
    "print('\\nData shape: ', fruit_original.shape)\n",
    "\n",
    "print('\\nFirst ten rows of data: \\n', fruit_original.head(10))\n",
    "\n",
    "print('\\nNumber of missing values: \\n', fruit_original.isnull().sum())\n",
    "\n",
    "print('\\nProportion of missing values: \\n', fruit_original.isnull().sum()/fruit_original.shape[0])\n",
    "\n",
    "print('\\nStatistics: ', fruit_original.describe())"
   ]
  },
  {
   "cell_type": "markdown",
   "metadata": {},
   "source": [
    "### 2.4) Try removing all instances with missing values, then replacing missing values with a constant"
   ]
  },
  {
   "cell_type": "code",
   "execution_count": null,
   "metadata": {},
   "outputs": [],
   "source": [
    "# Remove all rows containing missing values\n",
    "fruit_without_NaN = fruit_original.dropna()\n",
    "print('\\nNew data shape: \\n', fruit_without_NaN.shape)\n",
    "print('\\nProportion of data lost: \\n', (fruit_original.shape[0]-fruit_without_NaN.shape[0])/fruit_original.shape[0])\n",
    "\n",
    "\n",
    "# Replace missing values with 0\n",
    "fruit_NaN_for_0 = fruit_original.fillna(0)\n",
    "print('\\nFirst ten rows of data: \\n', fruit_NaN_for_0.head(10))"
   ]
  },
  {
   "cell_type": "markdown",
   "metadata": {},
   "source": [
    "### 2.5) Encode \"Fruit\" column with numerical labels"
   ]
  },
  {
   "cell_type": "code",
   "execution_count": null,
   "metadata": {},
   "outputs": [],
   "source": [
    "from sklearn.preprocessing import LabelEncoder\n",
    "encoder = LabelEncoder()\n",
    "fruit_fruit_encoded = fruit_original.copy()\n",
    "fruit_fruit_encoded['Fruit'] = encoder.fit_transform(fruit_fruit_encoded['Fruit'])\n",
    "\n",
    "print(fruit_fruit_encoded.head())\n",
    "print('\\nFruit categories: ', encoder.classes_)"
   ]
  },
  {
   "cell_type": "markdown",
   "metadata": {},
   "source": [
    "### 2.6) Try using a simple imputer to imput missing values"
   ]
  },
  {
   "cell_type": "code",
   "execution_count": null,
   "metadata": {},
   "outputs": [],
   "source": [
    "from sklearn.impute import SimpleImputer\n",
    "\n",
    "fruit_simply_imputed = fruit_fruit_encoded.copy()\n",
    "\n",
    "for feature in ['Color', 'Weight', 'Diameter']:\n",
    "\n",
    "    if fruit_simply_imputed[feature].dtype == 'O':\n",
    "\n",
    "        imputer = SimpleImputer(strategy='most_frequent')\n",
    "\n",
    "    else:\n",
    "\n",
    "        imputer = SimpleImputer(strategy='mean')\n",
    "\n",
    "    fruit_simply_imputed[feature] = imputer.fit_transform(fruit_fruit_encoded[feature].values.reshape(-1, 1))\n",
    "    \n",
    "print(fruit_simply_imputed.head())"
   ]
  },
  {
   "cell_type": "markdown",
   "metadata": {},
   "source": [
    "### 2.7) Encode \"Color\" attribute"
   ]
  },
  {
   "cell_type": "code",
   "execution_count": null,
   "metadata": {},
   "outputs": [],
   "source": [
    "encoder = LabelEncoder()\n",
    "fruit_color_encoded = fruit_simply_imputed.copy()\n",
    "fruit_color_encoded['Color'] = encoder.fit_transform(fruit_color_encoded['Color'])\n",
    "\n",
    "print(fruit_color_encoded.head())\n",
    "print('\\nColor categories: ', encoder.classes_)"
   ]
  },
  {
   "cell_type": "markdown",
   "metadata": {},
   "source": [
    "### 2.8) Plot histograms and boxplots of data"
   ]
  },
  {
   "cell_type": "code",
   "execution_count": null,
   "metadata": {},
   "outputs": [],
   "source": [
    "hist = fruit_color_encoded.hist(layout=(1,4), figsize=(12,2.5))"
   ]
  },
  {
   "cell_type": "code",
   "execution_count": null,
   "metadata": {},
   "outputs": [],
   "source": [
    "box = fruit_color_encoded.boxplot(figsize=(12, 2.5))"
   ]
  },
  {
   "cell_type": "markdown",
   "metadata": {},
   "source": [
    "### 2.9) Standardize data and re-plot histograms and box-plots"
   ]
  },
  {
   "cell_type": "code",
   "execution_count": null,
   "metadata": {},
   "outputs": [],
   "source": [
    "def standardize(data):\n",
    "    \n",
    "    return (data - data.mean())/data.std()\n",
    "\n",
    "\n",
    "for feature in ['Color', 'Weight', 'Diameter']:\n",
    "    \n",
    "    fruit_color_encoded[feature] = standardize(fruit_color_encoded[feature])"
   ]
  },
  {
   "cell_type": "code",
   "execution_count": null,
   "metadata": {
    "scrolled": true
   },
   "outputs": [],
   "source": [
    "hist = fruit_color_encoded.hist(layout=(1,4), figsize=(12,2.5))"
   ]
  },
  {
   "cell_type": "code",
   "execution_count": null,
   "metadata": {
    "scrolled": false
   },
   "outputs": [],
   "source": [
    "box = fruit_color_encoded.boxplot(figsize=(12, 2.5))"
   ]
  },
  {
   "cell_type": "markdown",
   "metadata": {},
   "source": [
    "### 2.10) View a scatter-plot of each fruit with weight vs diametet"
   ]
  },
  {
   "cell_type": "code",
   "execution_count": null,
   "metadata": {},
   "outputs": [],
   "source": [
    "import matplotlib.pyplot as plt\n",
    "\n",
    "apples = fruit_color_encoded[fruit_color_encoded['Fruit'] == 0]\n",
    "bananas = fruit_color_encoded[fruit_color_encoded['Fruit'] == 1]\n",
    "oranges = fruit_color_encoded[fruit_color_encoded['Fruit'] == 2]\n",
    "\n",
    "plt.figure()\n",
    "plt.scatter(apples['Weight'], apples['Diameter'], color='green', label='Apple')\n",
    "plt.scatter(bananas['Weight'], bananas['Diameter'], color='yellow', label='Banana')\n",
    "plt.scatter(oranges['Weight'], oranges['Diameter'], color='orange', label='Orange')\n",
    "plt.xlabel('Weight')\n",
    "plt.ylabel('Diameter')\n",
    "plt.legend()\n",
    "plt.show()"
   ]
  },
  {
   "cell_type": "markdown",
   "metadata": {},
   "source": [
    "### 2.11) Save encoded dataset"
   ]
  },
  {
   "cell_type": "code",
   "execution_count": null,
   "metadata": {},
   "outputs": [],
   "source": [
    "fruit_color_encoded.to_csv('./DATA/fruit_encoded.csv')"
   ]
  }
 ],
 "metadata": {
  "kernelspec": {
   "display_name": "Python 3",
   "language": "python",
   "name": "python3"
  },
  "language_info": {
   "codemirror_mode": {
    "name": "ipython",
    "version": 3
   },
   "file_extension": ".py",
   "mimetype": "text/x-python",
   "name": "python",
   "nbconvert_exporter": "python",
   "pygments_lexer": "ipython3",
   "version": "3.7.2"
  }
 },
 "nbformat": 4,
 "nbformat_minor": 2
}
