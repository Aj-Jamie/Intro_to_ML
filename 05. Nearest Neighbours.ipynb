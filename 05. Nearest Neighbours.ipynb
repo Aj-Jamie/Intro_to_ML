{
 "cells": [
  {
   "cell_type": "markdown",
   "metadata": {},
   "source": [
    "### 5.1) Import modules"
   ]
  },
  {
   "cell_type": "code",
   "execution_count": 1,
   "metadata": {},
   "outputs": [],
   "source": [
    "from sklearn.datasets import load_iris, load_boston\n",
    "from sklearn.model_selection import train_test_split\n",
    "from sklearn.preprocessing import StandardScaler\n",
    "from sklearn import neighbors"
   ]
  },
  {
   "cell_type": "markdown",
   "metadata": {},
   "source": [
    "### 5.2) Load and split Iris flower dataset for classification\n",
    "https://scikit-learn.org/stable/datasets/index.html#iris-dataset"
   ]
  },
  {
   "cell_type": "code",
   "execution_count": 2,
   "metadata": {},
   "outputs": [
    {
     "name": "stdout",
     "output_type": "stream",
     "text": [
      "Training features size:  (120, 4)\n",
      "Testing features size:  (30, 4)\n",
      "Training targets size:  (120,)\n",
      "Testing targets size:  (30,)\n"
     ]
    }
   ],
   "source": [
    "X, y = load_iris(return_X_y=True)\n",
    "\n",
    "X_train, X_test, y_train, y_test = train_test_split(X, y, test_size=0.2, train_size=0.8, random_state=0)\n",
    "\n",
    "print('Training features size: ', X_train.shape)\n",
    "print('Testing features size: ', X_test.shape)\n",
    "print('Training targets size: ', y_train.shape)\n",
    "print('Testing targets size: ', y_test.shape)"
   ]
  },
  {
   "cell_type": "markdown",
   "metadata": {},
   "source": [
    "### 5.3) Standardize training features"
   ]
  },
  {
   "cell_type": "code",
   "execution_count": 3,
   "metadata": {},
   "outputs": [
    {
     "name": "stdout",
     "output_type": "stream",
     "text": [
      "Original training feature means:  [5.88083333 3.05333333 3.81583333 1.23166667]\n",
      "Original training feature SDs:  [0.84688604 0.43010335 1.77745116 0.7721165 ]\n",
      "Scaled training feature means:  [ 0.00000000e+00 -7.49863135e-16  4.25585493e-16  2.57201667e-16]\n",
      "Scaled training feature SDs:  [1. 1. 1. 1.]\n"
     ]
    }
   ],
   "source": [
    "print('Original training feature means: ', X_train.mean(axis=0))\n",
    "print('Original training feature SDs: ', X_train.std(axis=0))\n",
    "\n",
    "scaler = StandardScaler()\n",
    "\n",
    "X_train_scaled = scaler.fit_transform(X_train) # fit the scaler to the training features, and also transform them\n",
    "\n",
    "print('Scaled training feature means: ', X_train_scaled.mean(axis=0))\n",
    "print('Scaled training feature SDs: ', X_train_scaled.std(axis=0))"
   ]
  },
  {
   "cell_type": "markdown",
   "metadata": {},
   "source": [
    "### 5.4) Standardize testing features"
   ]
  },
  {
   "cell_type": "code",
   "execution_count": 4,
   "metadata": {},
   "outputs": [
    {
     "name": "stdout",
     "output_type": "stream",
     "text": [
      "Original testing feature means:  [5.69333333 3.07333333 3.52666667 1.07      ]\n",
      "Original testing feature SDs:  [0.71317755 0.45087569 1.66531946 0.69289249]\n",
      "Scaled testing feature means:  [-0.22139933  0.04650045 -0.16268614 -0.20938118]\n",
      "Scaled testing feature SDs:  [0.84211749 1.04829617 0.93691432 0.89739371]\n"
     ]
    }
   ],
   "source": [
    "print('Original testing feature means: ', X_test.mean(axis=0))\n",
    "print('Original testing feature SDs: ', X_test.std(axis=0))\n",
    "\n",
    "X_test_scaled = scaler.transform(X_test)\n",
    "\n",
    "print('Scaled testing feature means: ', X_test_scaled.mean(axis=0))\n",
    "print('Scaled testing feature SDs: ', X_test_scaled.std(axis=0))"
   ]
  },
  {
   "cell_type": "markdown",
   "metadata": {},
   "source": [
    "### 5.5) Define accuracy function"
   ]
  },
  {
   "cell_type": "code",
   "execution_count": 5,
   "metadata": {},
   "outputs": [],
   "source": [
    "def accuracy(y_true, y_pred):\n",
    "    \n",
    "    m = len(y_true)\n",
    "    num_correct = 0\n",
    "    \n",
    "    for i in range(m):\n",
    "        \n",
    "        if y_pred[i] == y_true[i]:\n",
    "            \n",
    "            num_correct += 1\n",
    "    \n",
    "    accuracy = num_correct / m\n",
    "    \n",
    "    return accuracy"
   ]
  },
  {
   "cell_type": "markdown",
   "metadata": {},
   "source": [
    "### 5.6) Load, train and evaluate K-Nearest Neighbours classifier"
   ]
  },
  {
   "cell_type": "code",
   "execution_count": 6,
   "metadata": {},
   "outputs": [
    {
     "name": "stdout",
     "output_type": "stream",
     "text": [
      "K-Nearest Neighbours accuracy:  0.9666666666666667\n"
     ]
    }
   ],
   "source": [
    "knn_clf = neighbors.KNeighborsClassifier(n_neighbors=2) # n_neighbor is equivalent to \"k\"\n",
    "knn_clf.fit(X_train_scaled, y_train)\n",
    "\n",
    "y_pred = knn_clf.predict(X_test_scaled)\n",
    "knn_clf_accuracy = accuracy(y_test, y_pred)\n",
    "\n",
    "print('K-Nearest Neighbours accuracy: ', knn_clf_accuracy)"
   ]
  },
  {
   "cell_type": "markdown",
   "metadata": {},
   "source": [
    "### 5.7) Load Boston house price dataset"
   ]
  },
  {
   "cell_type": "code",
   "execution_count": 7,
   "metadata": {},
   "outputs": [
    {
     "name": "stdout",
     "output_type": "stream",
     "text": [
      "Training features size:  (404, 13)\n",
      "Testing features size:  (102, 13)\n",
      "Training targets size:  (404,)\n",
      "Testing targets size:  (102,)\n"
     ]
    }
   ],
   "source": [
    "X, y = load_boston(return_X_y=True)\n",
    "\n",
    "X_train, X_test, y_train, y_test = train_test_split(X, y, test_size=0.2, train_size=0.8, random_state=0)\n",
    "\n",
    "print('Training features size: ', X_train.shape)\n",
    "print('Testing features size: ', X_test.shape)\n",
    "print('Training targets size: ', y_train.shape)\n",
    "print('Testing targets size: ', y_test.shape)"
   ]
  },
  {
   "cell_type": "markdown",
   "metadata": {},
   "source": [
    "### 5.8) Standardize training and testing features"
   ]
  },
  {
   "cell_type": "code",
   "execution_count": 8,
   "metadata": {},
   "outputs": [],
   "source": [
    "scaler = StandardScaler()\n",
    "\n",
    "X_train_scaled = scaler.fit_transform(X_train)\n",
    "X_test_scaled = scaler.transform(X_test)"
   ]
  },
  {
   "cell_type": "markdown",
   "metadata": {},
   "source": [
    "### 5.9) Define error function"
   ]
  },
  {
   "cell_type": "code",
   "execution_count": 9,
   "metadata": {},
   "outputs": [],
   "source": [
    "def MSE(y_true, y_pred):\n",
    "    \n",
    "    m = len(y_true)\n",
    "    mse = sum(((y_true-y_pred)**2) / m)\n",
    "    \n",
    "    return mse"
   ]
  },
  {
   "cell_type": "markdown",
   "metadata": {},
   "source": [
    "### 5.10) Load, train and evaluate K-Nearest Neighbours regression model"
   ]
  },
  {
   "cell_type": "code",
   "execution_count": 10,
   "metadata": {},
   "outputs": [
    {
     "name": "stdout",
     "output_type": "stream",
     "text": [
      "K-Nearest Neighbours mean squared error:  35.674415686274514\n"
     ]
    }
   ],
   "source": [
    "knn_reg = neighbors.KNeighborsRegressor(n_neighbors=5)\n",
    "knn_reg.fit(X_train_scaled, y_train)\n",
    "\n",
    "y_pred = knn_reg.predict(X_test_scaled)\n",
    "knn_reg_error = MSE(y_test, y_pred)\n",
    "\n",
    "print('K-Nearest Neighbours mean squared error: ', knn_reg_error)"
   ]
  }
 ],
 "metadata": {
  "kernelspec": {
   "display_name": "Python 3",
   "language": "python",
   "name": "python3"
  },
  "language_info": {
   "codemirror_mode": {
    "name": "ipython",
    "version": 3
   },
   "file_extension": ".py",
   "mimetype": "text/x-python",
   "name": "python",
   "nbconvert_exporter": "python",
   "pygments_lexer": "ipython3",
   "version": "3.7.2"
  }
 },
 "nbformat": 4,
 "nbformat_minor": 2
}
